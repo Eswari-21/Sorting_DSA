{
  "nbformat": 4,
  "nbformat_minor": 0,
  "metadata": {
    "colab": {
      "provenance": [],
      "gpuType": "T4",
      "authorship_tag": "ABX9TyOiiTsw8Da69mFzLta4Rp2W",
      "include_colab_link": true
    },
    "kernelspec": {
      "name": "python3",
      "display_name": "Python 3"
    },
    "language_info": {
      "name": "python"
    },
    "accelerator": "GPU"
  },
  "cells": [
    {
      "cell_type": "markdown",
      "metadata": {
        "id": "view-in-github",
        "colab_type": "text"
      },
      "source": [
        "<a href=\"https://colab.research.google.com/github/Eswari-21/Sorting_DSA/blob/main/DSA_2.ipynb\" target=\"_parent\"><img src=\"https://colab.research.google.com/assets/colab-badge.svg\" alt=\"Open In Colab\"/></a>"
      ]
    },
    {
      "cell_type": "markdown",
      "source": [
        "# Sortings\n",
        "## Selection\n",
        "Divides the input list into two parts: a sorted sublist and the remaining unsorted sublist. It repeatedly selects the minimum element from the unsorted sublist and swaps it with the first element of the unsorted sublist.\n",
        "###### Time Complexity: O(n^2)\n",
        "###### Space Complexity: O(1)\n",
        "## Insertion\n",
        "Builds the final sorted array one item at a time. It is much less efficient on large lists than more advanced algorithms such as quicksort, heapsort, or merge sort\n",
        "###### Time Complexity: O(n^2) in the worst case, O(n) in the best case\n",
        "Space Complexity: O(1)\n",
        "###### Bubble\n",
        "Compares adjacent elements and swaps them if they are in the wrong order. The pass through the list is repeated until the list is sorted.\n",
        "###### Time Complexity: O(n^2)\n",
        "###### Space Complexity: O(1)\n",
        "## Quick\n",
        "A divide-and-conquer algorithm. It picks an element as a pivot and partitions the given array around the picked pivot.\n",
        "###### Time Complexity: O(n log n) on average, O(n^2) in the worst case\n",
        "###### Space Complexity: O(log n) on average, O(n) in the worst case\n",
        "## Counting\n",
        "A non-comparison-based sorting algorithm that sorts elements by counting the occurrences of each unique element in the input array.\n",
        "##### Time Complexity: O(n + k), where k is the range of the input\n",
        "##### Space Complexity: O(k)\n",
        "## Radix\n",
        "A non-comparison-based sorting algorithm that sorts numbers by processing individual digits.\n",
        "##### Time Complexity: O(nk), where k is the number of digits\n",
        "##### Space Complexity: O(n + k)\n",
        "## Heap\n",
        "A comparison-based sorting technique based on the Binary Heap data structure. It is similar to selection sort, where we first find the maximum element and place it at the end. We repeat the same process for the remaining elements.\n",
        "##### Time Complexity: O(n log n)\n",
        "##### Space Complexity: O(1)"
      ],
      "metadata": {
        "id": "BLd1eCOdxetf"
      }
    },
    {
      "cell_type": "markdown",
      "source": [
        "## Selection sorting\n",
        "### 1. select the lowest value\n",
        "### 2. Swap with min index value\n",
        "### 3. check with next lowest value and swap with 1[0] + 1\n",
        "### Example :\n",
        "17 14 15 19 18 12 1\n",
        "######  step 1: select the lowest value is given array is 1 then 1 is swap with the 17\n",
        "1 14 15 19 18 12 17\n",
        "###### the lowest value is 12 in given array is swap with the 14 and so on untill the array is ascending order.\n",
        "###### 1  12 15 19 18 14 17\n",
        "###### 1  12 14 19 18 15 17\n",
        "###### 1  12 14 15 18 19 17\n",
        "###### 1  12 14 15 17 19 18\n",
        "###### 1  12 14 15 17 18 19\n",
        "# Algorithm\n",
        "### 1. Start from the first element in the list/array\n",
        "### 2. arr[0] = min\n",
        "### 3. Compare with all the remaining element to find the real lowest element\n",
        "### 4. Perform swapping with current position\n",
        "#### 5. Repeat the same with adding positional values for each . min check\n",
        "## Pseudo code\n",
        "##### for -> 0 to n-1:\n",
        "        min =i\n",
        "        for j -> i+1 to n:\n",
        "           if arr[j] < arr [min]\n",
        "           min = j\n",
        "           swap\n",
        "     min = i + 1\n",
        "\n"
      ],
      "metadata": {
        "id": "qYP5Ym3ezPvP"
      }
    },
    {
      "cell_type": "code",
      "execution_count": null,
      "metadata": {
        "colab": {
          "base_uri": "https://localhost:8080/"
        },
        "id": "tCmLzBcbxXCp",
        "outputId": "1664516b-ca56-4c27-ced4-1e76ed8f1453"
      },
      "outputs": [
        {
          "output_type": "stream",
          "name": "stdout",
          "text": [
            "enter the number of elements:5\n",
            "enter 5 elements\n",
            "21\n",
            "1\n",
            "31\n",
            "11 \n",
            "5\n",
            "Sorted array [31, 21, 11, 5, 1]\n"
          ]
        }
      ],
      "source": [
        "def selection_sort(arr):\n",
        "  n = len(arr)\n",
        "  for i in range(n):\n",
        "    min_index = i\n",
        "    for j in range(i+1,n):\n",
        "      if arr[j]>arr[min_index]:\n",
        "        min_index = j\n",
        "    arr[i],arr[min_index]=arr[min_index],arr[i]\n",
        "  return arr\n",
        "size = int (input(\"enter the number of elements:\"))\n",
        "arr = []\n",
        "print(\"enter\",size,\"elements\")\n",
        "for _ in range(size):\n",
        "  num = int(input( ))\n",
        "  arr.append(num)\n",
        "result = selection_sort(arr)\n",
        "print(\"Sorted array\", result)"
      ]
    },
    {
      "cell_type": "markdown",
      "source": [
        "## Insertion sort\n",
        "### example:\n",
        "8 7 6 15 16 5 10 11\n",
        "## Algorithm\n",
        "#### 1.start from the second element (i=1)\n",
        "#### 2. previous index valued element check\n",
        "#### 3. Shift larger element one position  to the right\n",
        "#### 4. Insert the current element in the correct position\n",
        "#### 5. repeat until list sorted\n",
        "## Pseudo code\n",
        "###### for i ->  1 to n-1:\n",
        "              key = arr[i]\n",
        "              j = i-1\n",
        "              while j >= 0 and arr[j] > key\n",
        "                   arr[j+1] = arr[j]\n",
        "                   j -= 1\n",
        "        arr[j+1] = key"
      ],
      "metadata": {
        "id": "mj0zflha9Q4t"
      }
    },
    {
      "cell_type": "code",
      "source": [
        "def insertion_sort(arr):\n",
        "  n = len(arr)\n",
        "  for i in range(1,n):\n",
        "    key = arr[i]\n",
        "    j = i-1\n",
        "    while j>= 0 and arr[j]>key:\n",
        "      arr[j+1]=arr[j]\n",
        "      j -= 1\n",
        "    arr[j+1] = key\n",
        "  return arr\n",
        "size = int (input(\"enter the number of elements:\"))\n",
        "arr = []\n",
        "print(\"enter\",size,\"elements\")\n",
        "for _ in range(size):\n",
        "  num = int(input( ))\n",
        "  arr.append(num)\n",
        "result = insertion_sort(arr)\n",
        "print(\"Sorted array\", result)"
      ],
      "metadata": {
        "colab": {
          "base_uri": "https://localhost:8080/"
        },
        "id": "iqdulrwm8S3N",
        "outputId": "1dc107d5-4da8-4d65-8601-63436466c1fc"
      },
      "execution_count": null,
      "outputs": [
        {
          "output_type": "stream",
          "name": "stdout",
          "text": [
            "enter the number of elements:5\n",
            "enter 5 elements\n",
            "21\n",
            "11\n",
            "31\n",
            "1\n",
            "7\n",
            "Sorted array [1, 7, 11, 21, 31]\n"
          ]
        }
      ]
    },
    {
      "cell_type": "code",
      "source": [
        "def insertion_sort(arr):\n",
        "    n = len(arr)\n",
        "    for i in range(1, n):\n",
        "        key = arr[i]\n",
        "        j = i - 1\n",
        "        while j >= 0 and arr[j] > key:\n",
        "            arr[j + 1] = arr[j]\n",
        "            j -= 1\n",
        "        arr[j + 1] = key\n",
        "    return arr\n",
        "\n",
        "size = int(input(\"Enter the number of names: \"))\n",
        "arr = []\n",
        "print(\"Enter\", size, \"names:\")\n",
        "for _ in range(size):\n",
        "    name = input()  # input string (name)\n",
        "    arr.append(name)\n",
        "\n",
        "result = insertion_sort(arr)\n",
        "result_str = ' '.join(result)\n",
        "print(\"Sorted names:\", result_str)\n"
      ],
      "metadata": {
        "colab": {
          "base_uri": "https://localhost:8080/"
        },
        "id": "TbM9KUEeLulQ",
        "outputId": "c0264d32-e76f-4c28-ab97-5619998d9afd"
      },
      "execution_count": null,
      "outputs": [
        {
          "output_type": "stream",
          "name": "stdout",
          "text": [
            "Enter the number of names: 3\n",
            "Enter 3 names:\n",
            "banana\n",
            "papaya\n",
            "apple\n",
            "Sorted names: apple banana papaya\n"
          ]
        }
      ]
    },
    {
      "cell_type": "markdown",
      "source": [
        "### Perform insertion sort on strings based on length of the words\n"
      ],
      "metadata": {
        "id": "ly2C4HnMNYIU"
      }
    },
    {
      "cell_type": "code",
      "source": [
        "def insertion_sort(arr):\n",
        "    n = len(arr)\n",
        "    for i in range(1, n):\n",
        "        key = arr[i]\n",
        "        j = i - 1\n",
        "        while j >= 0 and len(arr[j]) > len(key):\n",
        "            arr[j + 1] = arr[j]\n",
        "            j -= 1\n",
        "        arr[j + 1] = key\n",
        "    return arr\n",
        "\n",
        "size = int(input(\"Enter the number of names: \"))\n",
        "arr = []\n",
        "print(\"Enter\", size, \"names:\")\n",
        "for _ in range(size):\n",
        "    name = input()  # input string (name)\n",
        "    arr.append(name)\n",
        "\n",
        "result = insertion_sort(arr)\n",
        "print(\"Sorted array\", result)\n",
        "\n"
      ],
      "metadata": {
        "colab": {
          "base_uri": "https://localhost:8080/"
        },
        "outputId": "1d5ff086-c9f1-454f-8776-152bae5d02dc",
        "id": "4ECBZdfdNmhw"
      },
      "execution_count": null,
      "outputs": [
        {
          "output_type": "stream",
          "name": "stdout",
          "text": [
            "Enter the number of names: 3\n",
            "Enter 3 names:\n",
            "moon\n",
            "sun\n",
            "stars\n",
            "Sorted array ['sun', 'moon', 'stars']\n"
          ]
        }
      ]
    },
    {
      "cell_type": "markdown",
      "source": [
        "### input : python\n",
        "### output : hnopty\n"
      ],
      "metadata": {
        "id": "gGoG1m2nSKQU"
      }
    },
    {
      "cell_type": "code",
      "source": [
        "\n",
        "def insertion_sort(arr):\n",
        "    n = len(arr)\n",
        "    for i in range(1, n):\n",
        "        key = arr[i]\n",
        "        j = i - 1\n",
        "        while j >= 0 and arr[j] > key:\n",
        "            arr[j + 1] = arr[j]\n",
        "            j -= 1\n",
        "        arr[j + 1] = key\n",
        "    return arr\n",
        "\n",
        "text = input(\"Enter a string:\")\n",
        "ch = list(text)\n",
        "result = insertion_sort(ch)\n",
        "result_str = ''.join(result)\n",
        "print(ch)\n",
        "print(\"sorted array\",result_str)\n",
        "\n"
      ],
      "metadata": {
        "colab": {
          "base_uri": "https://localhost:8080/"
        },
        "outputId": "9714cc5d-b6c4-4657-92ce-33fd35f1950a",
        "id": "3YeG93C2SVow"
      },
      "execution_count": null,
      "outputs": [
        {
          "output_type": "stream",
          "name": "stdout",
          "text": [
            "Enter a string:Eswari\n",
            "['E', 'a', 'i', 'r', 's', 'w']\n",
            "sorted array Eairsw\n"
          ]
        }
      ]
    },
    {
      "cell_type": "markdown",
      "source": [
        "# Bubble  sort\n",
        "## Algorithm\n",
        "1. state from the beginning of the the array /list 2.\n",
        "2. compare each pair to adjacent number\n",
        "3. if latest element is greater than adjacent perform swap\n",
        "4. Repeat the process till n-1\n",
        "5. after each cycle/pass, largest unsorted element would be in correct positon\n",
        "6. repeat pass till all the elements are sorted\n",
        "\n",
        "## Pseudo\n",
        "for i -> 0 to n - 1\n",
        "###### for j -> 0 to n-i-2\n",
        "###### if a [ j ] > a [ j + 1]\n",
        "###### swap ( a[ j ] , a [ j + 1] )"
      ],
      "metadata": {
        "id": "rmx5-hh9UKYI"
      }
    },
    {
      "cell_type": "code",
      "source": [
        "def bubble_sort(arr):\n",
        "  n = len(arr)\n",
        "  for i in range(n):\n",
        "    for j in range(0,n-i-1):\n",
        "      if arr[j]>arr[j+1]:\n",
        "        arr[j],arr[j+1]=arr[j+1],arr[j]\n",
        "  return arr\n",
        "\n",
        "size = int(input(\"enter the number of elements:\"))\n",
        "arr = []\n",
        "print(\"enter the elements :\")\n",
        "for _ in range(size):\n",
        "  arr.append(int(input()))\n",
        "print(\"original list :\", arr)\n",
        "bubble_sort(arr)\n",
        "print(\"Bubble sort:\",arr)"
      ],
      "metadata": {
        "colab": {
          "base_uri": "https://localhost:8080/"
        },
        "id": "vAcanr73Sy5y",
        "outputId": "c2236b52-6217-4c73-afd6-e20d6130cb88"
      },
      "execution_count": null,
      "outputs": [
        {
          "output_type": "stream",
          "name": "stdout",
          "text": [
            "enter the number of elements:5\n",
            "enter the elements :\n",
            "5\n",
            "8\n",
            "3\n",
            "7\n",
            "4\n",
            "original list : [5, 8, 3, 7, 4]\n",
            "Bubble sort: [3, 4, 5, 7, 8]\n"
          ]
        }
      ]
    },
    {
      "cell_type": "markdown",
      "source": [
        "# Counting Sort\n",
        "### Non-Comparision Sort\n",
        "1. No negative numbers\n",
        "2. No long numbers\n",
        "3. Short Confined number only  ex: 0 - 100\n",
        "\n",
        "## Algorithm\n",
        "1. Find max min of array\n",
        "2. min ! < 0\n",
        "3. Create a count array to store the frequency of numbers\n",
        "4. Modify the count array , for element to be store the sum of previous counts\n",
        "5. place the output array back to the original array\n",
        "\n",
        "## Pseudo Code\n",
        "1. find the max in arr\n",
        "2. create count ( 0 - max )\n",
        "3. for i -> 0 to n - 1:\n",
        "##### count [ a [ i ] ] + = 1\n",
        "4. for i -> 1 to max_val:\n",
        "##### count [ i ] + = count [ i - 1 ]\n",
        "Create output arr [ n ]\n",
        "5. for i -> n - 1 to 0 :    \n",
        "##### output [ count [ a [ i ] ] - 1 ] = a [ i ]\n",
        "##### count [ a [ i ] ] - = 1\n",
        "copy output to arr"
      ],
      "metadata": {
        "id": "4QD7MW2_egu0"
      }
    },
    {
      "cell_type": "code",
      "source": [
        "def count_sort (arr):\n",
        "  if not arr:\n",
        "    return []\n",
        "  max_val = max(arr)\n",
        "  count = [0] * (max_val + 1)\n",
        "  for num in arr:\n",
        "    count[num]+=1\n",
        "  for i in range (1,len(count)):\n",
        "    count [i] += count [ i- 1]\n",
        "  output = [0] * len (arr)\n",
        "\n",
        "  for num in reversed(arr):\n",
        "    output[count[num - 1]] = num\n",
        "    count[num] -= 1\n",
        "\n",
        "  for i in range (len(arr)):\n",
        "    arr[i] = output[i]\n",
        "arr = [4,2,2,8,3,3,1]\n",
        "print(\"Before :\", arr)\n",
        "count_sort(arr)\n",
        "print (\"After :\",arr)"
      ],
      "metadata": {
        "colab": {
          "base_uri": "https://localhost:8080/"
        },
        "id": "AM4dInLGrmbL",
        "outputId": "7021d68b-b6e5-49d4-a45c-b22e533d1ca4"
      },
      "execution_count": null,
      "outputs": [
        {
          "output_type": "stream",
          "name": "stdout",
          "text": [
            "Before : [4, 2, 2, 8, 3, 3, 1]\n",
            "After : [2, 0, 0, 4, 0, 0, 8]\n"
          ]
        }
      ]
    },
    {
      "cell_type": "code",
      "source": [
        "def count_sort_chars(arr):\n",
        "    if not arr:\n",
        "        return []\n",
        "    max_val = max(arr)          # max of characters compares lex order\n",
        "    min_val = min(arr)\n",
        "    range_of_chars = ord(max_val) - ord(min_val) + 1\n",
        "\n",
        "    count = [0] * range_of_chars\n",
        "    for ch in arr:\n",
        "        count[ord(ch) - ord(min_val)] += 1\n",
        "\n",
        "    for i in range(1, len(count)):\n",
        "        count[i] += count[i - 1]\n",
        "\n",
        "    output = [None] * len(arr)\n",
        "    for ch in reversed(arr):\n",
        "        index = ord(ch) - ord(min_val)\n",
        "        output[count[index] - 1] = ch\n",
        "        count[index] -= 1\n",
        "\n",
        "    for i in range(len(arr)):\n",
        "        arr[i] = output[i]\n",
        "\n",
        "\n",
        "chars = ['d', 'b', 'a', 'c', 'b', 'a']\n",
        "print(\"Before:\", chars)\n",
        "count_sort_chars(chars)\n",
        "print(\"After:\", chars)\n"
      ],
      "metadata": {
        "colab": {
          "base_uri": "https://localhost:8080/"
        },
        "id": "lqPOz-3nZ_YH",
        "outputId": "300355a5-a3a5-403e-d6e5-948ba96a7711"
      },
      "execution_count": null,
      "outputs": [
        {
          "output_type": "stream",
          "name": "stdout",
          "text": [
            "Before: ['d', 'b', 'a', 'c', 'b', 'a']\n",
            "After: ['a', 'a', 'b', 'b', 'c', 'd']\n"
          ]
        }
      ]
    },
    {
      "cell_type": "code",
      "source": [
        "def csortString(s):\n",
        "  count = [0] *26\n",
        "  for char in s:\n",
        "    count[ord(char)-ord('a')]+=1\n",
        "    sorted_str = ' '\n",
        "  for i in range (26):\n",
        "    sorted_str += chr(i+ord('a')) * count[i]\n",
        "  return sorted_str\n",
        "\n",
        "name = input(\"Enter a single word : \")\n",
        "sorted_name = csortString(name)\n",
        "print(\"Original String:\",name)\n",
        "print(\"Sorted string :\",sorted_name)"
      ],
      "metadata": {
        "colab": {
          "base_uri": "https://localhost:8080/"
        },
        "id": "RwMOteKPaMsv",
        "outputId": "3cafe554-1285-4f72-e061-f60ffb89b0f4"
      },
      "execution_count": null,
      "outputs": [
        {
          "output_type": "stream",
          "name": "stdout",
          "text": [
            "Enter a single word : powerstarpawankalyan\n",
            "Original String: powerstarpawankalyan\n",
            "Sorted string :  aaaaaeklnnopprrstwwy\n"
          ]
        }
      ]
    },
    {
      "cell_type": "markdown",
      "source": [
        "# Radix Sorting\n"
      ],
      "metadata": {
        "id": "kpgqW6dBfQln"
      }
    },
    {
      "cell_type": "markdown",
      "metadata": {
        "id": "bb7d61ae"
      },
      "source": [
        "# Radix Sort\n",
        "\n",
        "**Radix Sort** is a non-comparative integer sorting algorithm that sorts data with integer keys by grouping keys by individual digits which share the same significant position and value.\n",
        "\n",
        "## Algorithm\n",
        "1. find the maximum number to determine number of digits\n",
        "2. Set 10 ^ 0 , for digit position\n",
        "3. Increment digit position , w . r . t pass\n",
        "4. loop -> max num / / exp > 0\n",
        "##### perform count sort based on current digit (num / / exp) % 10\n",
        "##### multiply exp by 10\n"
      ]
    },
    {
      "cell_type": "code",
      "source": [
        "def counting_sort(arr, exp):\n",
        "    n = len(arr)\n",
        "    output = [0] * n\n",
        "    count = [0] * 10 # 10 0 -> 9 empty buckets for count of digits\n",
        "\n",
        "    for i in range(n):  # frequenices of units position of numbers\n",
        "        index = (arr[i] // exp)%10\n",
        "        count[index] += 1\n",
        "    for i in range(1, 10):\n",
        "        count[i] += count[i - 1]\n",
        "    i = n - 1\n",
        "    while i >= 0:\n",
        "        index = (arr[i] // exp)%10\n",
        "        output[count[index]-1] =  arr[i]\n",
        "        count[index] -= 1\n",
        "        i -= 1\n",
        "    for i in range(n):\n",
        "      arr[i] = output[i]\n",
        "def radix_sort(arr):\n",
        "  max_num = max(arr)\n",
        "  exp = 1\n",
        "  while max_num // exp > 0:\n",
        "    counting_sort(arr,exp)\n",
        "    exp *= 10\n",
        "\n",
        "arr = [432, 8,530,90,88,231,11,45,677,199]\n",
        "print(\"Before sort :\",arr)\n",
        "radix_sort(arr)\n",
        "print(\"After sort :\",arr)"
      ],
      "metadata": {
        "colab": {
          "base_uri": "https://localhost:8080/"
        },
        "id": "7beGZxNopscv",
        "outputId": "0771a6c6-3043-4de1-e4ad-557be2ecde1c"
      },
      "execution_count": null,
      "outputs": [
        {
          "output_type": "stream",
          "name": "stdout",
          "text": [
            "Before sort : [432, 8, 530, 90, 88, 231, 11, 45, 677, 199]\n",
            "After sort : [8, 11, 45, 88, 90, 199, 231, 432, 530, 677]\n"
          ]
        }
      ]
    },
    {
      "cell_type": "markdown",
      "source": [
        "# Pancake Sort\n",
        "1. High value\n",
        "2. High value flip\n",
        "3. total flip\n",
        "4. set fix value\n",
        "#ALGORITHM\n",
        " 1. Start completearray nd decrease the size(n-1)\n",
        " 2. for each size:\n",
        "##### a.find the index of max element\n",
        "#####      b.flip the array with max element index\n",
        "      c.flip the total array to the current size max->move to the end of the array\n",
        "  3. Repeat step1 by n-1,n-2,n-3......\n",
        "for n th reduced element perform step2 until 0th index value respectively\n"
      ],
      "metadata": {
        "id": "F2Gcnnre0eJT"
      }
    },
    {
      "cell_type": "code",
      "source": [
        "def flip(arr,k):\n",
        "    return arr[:k+1][::-1]+arr[k+1:]\n",
        "def pancake(arr):\n",
        "    n=len(arr)\n",
        "    for size in range(n,1,-1):\n",
        "        max_index=arr.index(max(arr[:size]))\n",
        "        if max_index !=0:\n",
        "            arr=flip(arr,max_index)\n",
        "            print(f\"Flip at {max_index+1}:{arr}\")\n",
        "        arr=flip(arr,size-1)\n",
        "        print(f\"Flip at {size}:{arr}\")\n",
        "    return arr\n",
        "nums=list(map(int,input(\"Enter numbers seperated with space:\").split()))\n",
        "sorted_nums=pancake(nums)\n",
        "print(\"Sorted\",sorted_nums)\n",
        "\n",
        ""
      ],
      "metadata": {
        "id": "h0GlrCpY29Q_",
        "colab": {
          "base_uri": "https://localhost:8080/"
        },
        "outputId": "1781baf0-6a6b-406f-df06-750c6d4b7ffd"
      },
      "execution_count": 6,
      "outputs": [
        {
          "output_type": "stream",
          "name": "stdout",
          "text": [
            "Enter numbers seperated with space:21 1 11 31\n",
            "Flip at 4:[31, 11, 1, 21]\n",
            "Flip at 4:[21, 1, 11, 31]\n",
            "Flip at 3:[11, 1, 21, 31]\n",
            "Flip at 2:[1, 11, 21, 31]\n",
            "Sorted [1, 11, 21, 31]\n"
          ]
        }
      ]
    }
  ]
}